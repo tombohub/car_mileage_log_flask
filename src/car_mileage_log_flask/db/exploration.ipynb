{
 "cells": [
  {
   "cell_type": "code",
   "execution_count": 7,
   "id": "86bb0199",
   "metadata": {},
   "outputs": [],
   "source": [
    "import datetime as dt\n",
    "from dataclasses import dataclass\n",
    "\n",
    "from sqlalchemy import select, desc, bindparam, asc\n",
    "\n",
    "from car_mileage_log_flask.db.connection import engine\n",
    "from car_mileage_log_flask.db.tables import drive_logs_table, job_sites_table\n",
    "from car_mileage_log_flask.domain import JobSite, DriveLogStatus\n",
    "from rich import print\n",
    "import records\n",
    "from sqlalchemy.dialects import postgresql\n",
    "from car_mileage_log_flask.db.models import DriveLogDrivelog, DriveLogJobsite\n",
    "from sqlalchemy.orm import sessionmaker\n",
    "import tabulate\n",
    "\n"
   ]
  },
  {
   "cell_type": "code",
   "execution_count": 2,
   "id": "0801a015",
   "metadata": {},
   "outputs": [],
   "source": [
    "db = records.Database(engine.url)\n",
    "Session = sessionmaker(bind=engine)\n",
    "session = Session()"
   ]
  },
  {
   "cell_type": "code",
   "execution_count": 13,
   "id": "67d086b0",
   "metadata": {},
   "outputs": [
    {
     "data": {
      "text/html": [
       "<pre style=\"white-space:pre;overflow-x:auto;line-height:normal;font-family:Menlo,'DejaVu Sans Mono',consolas,'Courier New',monospace\"><span style=\"font-weight: bold\">[</span>\n",
       "    <span style=\"font-weight: bold\">{</span>\n",
       "        <span style=\"color: #008000; text-decoration-color: #008000\">'id'</span>: <span style=\"color: #008080; text-decoration-color: #008080; font-weight: bold\">59</span>,\n",
       "        <span style=\"color: #008000; text-decoration-color: #008000\">'created_at'</span>: <span style=\"color: #800080; text-decoration-color: #800080; font-weight: bold\">datetime.datetime</span><span style=\"font-weight: bold\">(</span><span style=\"color: #008080; text-decoration-color: #008080; font-weight: bold\">2025</span>, <span style=\"color: #008080; text-decoration-color: #008080; font-weight: bold\">5</span>, <span style=\"color: #008080; text-decoration-color: #008080; font-weight: bold\">2</span>, <span style=\"color: #008080; text-decoration-color: #008080; font-weight: bold\">23</span>, <span style=\"color: #008080; text-decoration-color: #008080; font-weight: bold\">11</span>, <span style=\"color: #008080; text-decoration-color: #008080; font-weight: bold\">10</span>, <span style=\"color: #008080; text-decoration-color: #008080; font-weight: bold\">807465</span>, \n",
       "<span style=\"color: #808000; text-decoration-color: #808000\">tzinfo</span>=<span style=\"color: #800080; text-decoration-color: #800080; font-weight: bold\">zoneinfo</span><span style=\"color: #800080; text-decoration-color: #800080; font-weight: bold\">.ZoneInfo</span><span style=\"font-weight: bold\">(</span><span style=\"color: #808000; text-decoration-color: #808000\">key</span>=<span style=\"color: #008000; text-decoration-color: #008000\">'Europe/Warsaw'</span><span style=\"font-weight: bold\">))</span>,\n",
       "        <span style=\"color: #008000; text-decoration-color: #008000\">'updated_at'</span>: <span style=\"color: #800080; text-decoration-color: #800080; font-weight: bold\">datetime.datetime</span><span style=\"font-weight: bold\">(</span><span style=\"color: #008080; text-decoration-color: #008080; font-weight: bold\">2025</span>, <span style=\"color: #008080; text-decoration-color: #008080; font-weight: bold\">5</span>, <span style=\"color: #008080; text-decoration-color: #008080; font-weight: bold\">2</span>, <span style=\"color: #008080; text-decoration-color: #008080; font-weight: bold\">23</span>, <span style=\"color: #008080; text-decoration-color: #008080; font-weight: bold\">11</span>, <span style=\"color: #008080; text-decoration-color: #008080; font-weight: bold\">10</span>, <span style=\"color: #008080; text-decoration-color: #008080; font-weight: bold\">807517</span>, \n",
       "<span style=\"color: #808000; text-decoration-color: #808000\">tzinfo</span>=<span style=\"color: #800080; text-decoration-color: #800080; font-weight: bold\">zoneinfo</span><span style=\"color: #800080; text-decoration-color: #800080; font-weight: bold\">.ZoneInfo</span><span style=\"font-weight: bold\">(</span><span style=\"color: #808000; text-decoration-color: #808000\">key</span>=<span style=\"color: #008000; text-decoration-color: #008000\">'Europe/Warsaw'</span><span style=\"font-weight: bold\">))</span>,\n",
       "        <span style=\"color: #008000; text-decoration-color: #008000\">'date'</span>: <span style=\"color: #800080; text-decoration-color: #800080; font-weight: bold\">datetime.date</span><span style=\"font-weight: bold\">(</span><span style=\"color: #008080; text-decoration-color: #008080; font-weight: bold\">2025</span>, <span style=\"color: #008080; text-decoration-color: #008080; font-weight: bold\">5</span>, <span style=\"color: #008080; text-decoration-color: #008080; font-weight: bold\">2</span><span style=\"font-weight: bold\">)</span>,\n",
       "        <span style=\"color: #008000; text-decoration-color: #008000\">'start_km'</span>: <span style=\"color: #008080; text-decoration-color: #008080; font-weight: bold\">49</span>,\n",
       "        <span style=\"color: #008000; text-decoration-color: #008000\">'end_km'</span>: <span style=\"color: #800080; text-decoration-color: #800080; font-style: italic\">None</span>,\n",
       "        <span style=\"color: #008000; text-decoration-color: #008000\">'status'</span>: <span style=\"color: #008000; text-decoration-color: #008000\">'in_progress'</span>,\n",
       "        <span style=\"color: #008000; text-decoration-color: #008000\">'job_site_id'</span>: <span style=\"color: #008080; text-decoration-color: #008080; font-weight: bold\">7</span>,\n",
       "        <span style=\"color: #008000; text-decoration-color: #008000\">'job_site_name'</span>: <span style=\"color: #008000; text-decoration-color: #008000\">'dsasd'</span>,\n",
       "        <span style=\"color: #008000; text-decoration-color: #008000\">'job_site_address'</span>: <span style=\"color: #008000; text-decoration-color: #008000\">'dasda'</span>\n",
       "    <span style=\"font-weight: bold\">}</span>\n",
       "<span style=\"font-weight: bold\">]</span>\n",
       "</pre>\n"
      ],
      "text/plain": [
       "\u001b[1m[\u001b[0m\n",
       "    \u001b[1m{\u001b[0m\n",
       "        \u001b[32m'id'\u001b[0m: \u001b[1;36m59\u001b[0m,\n",
       "        \u001b[32m'created_at'\u001b[0m: \u001b[1;35mdatetime.datetime\u001b[0m\u001b[1m(\u001b[0m\u001b[1;36m2025\u001b[0m, \u001b[1;36m5\u001b[0m, \u001b[1;36m2\u001b[0m, \u001b[1;36m23\u001b[0m, \u001b[1;36m11\u001b[0m, \u001b[1;36m10\u001b[0m, \u001b[1;36m807465\u001b[0m, \n",
       "\u001b[33mtzinfo\u001b[0m=\u001b[1;35mzoneinfo\u001b[0m\u001b[1;35m.ZoneInfo\u001b[0m\u001b[1m(\u001b[0m\u001b[33mkey\u001b[0m=\u001b[32m'Europe/Warsaw'\u001b[0m\u001b[1m)\u001b[0m\u001b[1m)\u001b[0m,\n",
       "        \u001b[32m'updated_at'\u001b[0m: \u001b[1;35mdatetime.datetime\u001b[0m\u001b[1m(\u001b[0m\u001b[1;36m2025\u001b[0m, \u001b[1;36m5\u001b[0m, \u001b[1;36m2\u001b[0m, \u001b[1;36m23\u001b[0m, \u001b[1;36m11\u001b[0m, \u001b[1;36m10\u001b[0m, \u001b[1;36m807517\u001b[0m, \n",
       "\u001b[33mtzinfo\u001b[0m=\u001b[1;35mzoneinfo\u001b[0m\u001b[1;35m.ZoneInfo\u001b[0m\u001b[1m(\u001b[0m\u001b[33mkey\u001b[0m=\u001b[32m'Europe/Warsaw'\u001b[0m\u001b[1m)\u001b[0m\u001b[1m)\u001b[0m,\n",
       "        \u001b[32m'date'\u001b[0m: \u001b[1;35mdatetime.date\u001b[0m\u001b[1m(\u001b[0m\u001b[1;36m2025\u001b[0m, \u001b[1;36m5\u001b[0m, \u001b[1;36m2\u001b[0m\u001b[1m)\u001b[0m,\n",
       "        \u001b[32m'start_km'\u001b[0m: \u001b[1;36m49\u001b[0m,\n",
       "        \u001b[32m'end_km'\u001b[0m: \u001b[3;35mNone\u001b[0m,\n",
       "        \u001b[32m'status'\u001b[0m: \u001b[32m'in_progress'\u001b[0m,\n",
       "        \u001b[32m'job_site_id'\u001b[0m: \u001b[1;36m7\u001b[0m,\n",
       "        \u001b[32m'job_site_name'\u001b[0m: \u001b[32m'dsasd'\u001b[0m,\n",
       "        \u001b[32m'job_site_address'\u001b[0m: \u001b[32m'dasda'\u001b[0m\n",
       "    \u001b[1m}\u001b[0m\n",
       "\u001b[1m]\u001b[0m\n"
      ]
     },
     "metadata": {},
     "output_type": "display_data"
    }
   ],
   "source": [
    "sql = \"\"\"\n",
    "SELECT d.*, j.name AS job_site_name, j.address as job_site_address\n",
    "FROM drive_log_drivelog d\n",
    "JOIN drive_log_jobsite j ON d.job_site_id = j.id\n",
    "WHERE status = 'in_progress'\n",
    "ORDER BY created_at ASC\n",
    "LIMIT 1;\n",
    "\"\"\"\n",
    "result = db.query(sql)\n",
    "dataset = result.as_dict()\n",
    "print(dataset)"
   ]
  },
  {
   "cell_type": "code",
   "execution_count": 4,
   "id": "19a31ce7",
   "metadata": {},
   "outputs": [
    {
     "data": {
      "text/html": [
       "<pre style=\"white-space:pre;overflow-x:auto;line-height:normal;font-family:Menlo,'DejaVu Sans Mono',consolas,'Courier New',monospace\">id|created_at                      |updated_at                      |date      |start_km|end_km|status     \n",
       "|job_site_id|job_site_name|job_site_address\n",
       "--|--------------------------------|--------------------------------|----------|--------|------|-----------|-------\n",
       "----|-------------|----------------\n",
       "<span style=\"color: #008080; text-decoration-color: #008080; font-weight: bold\">59</span>|<span style=\"color: #008080; text-decoration-color: #008080; font-weight: bold\">2025</span>-<span style=\"color: #008080; text-decoration-color: #008080; font-weight: bold\">05</span>-02T<span style=\"color: #00ff00; text-decoration-color: #00ff00; font-weight: bold\">23:11:10</span>.<span style=\"color: #008080; text-decoration-color: #008080; font-weight: bold\">807465</span>+<span style=\"color: #00ff00; text-decoration-color: #00ff00; font-weight: bold\">02:00</span>|<span style=\"color: #008080; text-decoration-color: #008080; font-weight: bold\">2025</span>-<span style=\"color: #008080; text-decoration-color: #008080; font-weight: bold\">05</span>-02T<span style=\"color: #00ff00; text-decoration-color: #00ff00; font-weight: bold\">23:11:10</span>.<span style=\"color: #008080; text-decoration-color: #008080; font-weight: bold\">807517</span>+<span style=\"color: #00ff00; text-decoration-color: #00ff00; font-weight: bold\">02:00</span>|<span style=\"color: #008080; text-decoration-color: #008080; font-weight: bold\">2025</span>-<span style=\"color: #008080; text-decoration-color: #008080; font-weight: bold\">05</span>-<span style=\"color: #008080; text-decoration-color: #008080; font-weight: bold\">02</span>|<span style=\"color: #008080; text-decoration-color: #008080; font-weight: bold\">49</span>      |<span style=\"color: #800080; text-decoration-color: #800080; font-style: italic\">None</span>  |in_progress|<span style=\"color: #008080; text-decoration-color: #008080; font-weight: bold\">7</span>      \n",
       "|dsasd        |dasda           \n",
       "</pre>\n"
      ],
      "text/plain": [
       "id|created_at                      |updated_at                      |date      |start_km|end_km|status     \n",
       "|job_site_id|job_site_name|job_site_address\n",
       "--|--------------------------------|--------------------------------|----------|--------|------|-----------|-------\n",
       "----|-------------|----------------\n",
       "\u001b[1;36m59\u001b[0m|\u001b[1;36m2025\u001b[0m-\u001b[1;36m05\u001b[0m-02T\u001b[1;92m23:11:10\u001b[0m.\u001b[1;36m807465\u001b[0m+\u001b[1;92m02:00\u001b[0m|\u001b[1;36m2025\u001b[0m-\u001b[1;36m05\u001b[0m-02T\u001b[1;92m23:11:10\u001b[0m.\u001b[1;36m807517\u001b[0m+\u001b[1;92m02:00\u001b[0m|\u001b[1;36m2025\u001b[0m-\u001b[1;36m05\u001b[0m-\u001b[1;36m02\u001b[0m|\u001b[1;36m49\u001b[0m      |\u001b[3;35mNone\u001b[0m  |in_progress|\u001b[1;36m7\u001b[0m      \n",
       "|dsasd        |dasda           \n"
      ]
     },
     "metadata": {},
     "output_type": "display_data"
    }
   ],
   "source": [
    "rows = db.query(sql)\n",
    "print(rows[0].dataset)"
   ]
  },
  {
   "cell_type": "code",
   "execution_count": null,
   "id": "ea62daea",
   "metadata": {},
   "outputs": [],
   "source": []
  }
 ],
 "metadata": {
  "kernelspec": {
   "display_name": "car-mileage-log-flask",
   "language": "python",
   "name": "python3"
  },
  "language_info": {
   "codemirror_mode": {
    "name": "ipython",
    "version": 3
   },
   "file_extension": ".py",
   "mimetype": "text/x-python",
   "name": "python",
   "nbconvert_exporter": "python",
   "pygments_lexer": "ipython3",
   "version": "3.13.5"
  }
 },
 "nbformat": 4,
 "nbformat_minor": 5
}
